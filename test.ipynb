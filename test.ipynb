{
 "cells": [
  {
   "cell_type": "code",
   "execution_count": 1,
   "metadata": {},
   "outputs": [],
   "source": [
    "import numpy as np"
   ]
  },
  {
   "cell_type": "code",
   "execution_count": 3,
   "metadata": {},
   "outputs": [],
   "source": [
    "X = np.random.random((10, 5))\n",
    "Y = np.random.random((2, 5))"
   ]
  },
  {
   "cell_type": "code",
   "execution_count": 5,
   "metadata": {},
   "outputs": [
    {
     "name": "stdout",
     "output_type": "stream",
     "text": [
      "[[0.10809787 0.62418606 0.94425001 0.02348602 0.67939275]\n",
      " [0.81809091 0.25732062 0.78218482 0.60837231 0.64572891]\n",
      " [0.39087628 0.11168584 0.904963   0.35393013 0.21879399]\n",
      " [0.47513729 0.03509795 0.55176003 0.15795851 0.02355855]\n",
      " [0.80030728 0.92599993 0.80905768 0.67277658 0.80458405]\n",
      " [0.65128554 0.04547567 0.11817426 0.10475406 0.24345791]\n",
      " [0.30139082 0.57743088 0.78776876 0.24956843 0.36443893]\n",
      " [0.15290336 0.18572084 0.83140531 0.6331934  0.13581363]\n",
      " [0.36499191 0.52711073 0.71783829 0.63532759 0.45088549]\n",
      " [0.51093645 0.41546605 0.83509833 0.81880674 0.50803164]]\n",
      "[[0.082425   0.79221397 0.97183693 0.0555635  0.58560256]\n",
      " [0.42214927 0.69585806 0.94205571 0.86662959 0.91947879]]\n"
     ]
    }
   ],
   "source": [
    "print(X)\n",
    "print(Y)"
   ]
  },
  {
   "cell_type": "code",
   "execution_count": 8,
   "metadata": {},
   "outputs": [
    {
     "name": "stdout",
     "output_type": "stream",
     "text": [
      "[[0.19869343 1.08281851 0.88673786 1.10918457 0.99431162 1.3150829\n",
      "  0.46315242 0.9635811  0.754264   0.96582399]\n",
      " [0.93397128 0.71852584 1.04758339 1.37718195 0.5142344  1.48045259\n",
      "  0.86095631 1.00677722 0.59589963 0.51915171]] (2, 10)\n"
     ]
    }
   ],
   "source": [
    "num_test = Y.shape[0]\n",
    "num_train = X.shape[0]\n",
    "dists = np.zeros((num_test, num_train))\n",
    "for i in range(num_test):\n",
    "    for j in range(num_train):\n",
    "        #####################################################################\n",
    "        # TODO:                                                             #\n",
    "        # Compute the l2 distance between the ith test point and the jth    #\n",
    "        # training point, and store the result in dists[i, j]. You should   #\n",
    "        # not use a loop over dimension, nor use np.linalg.norm().          #\n",
    "        #####################################################################\n",
    "        # *****START OF YOUR CODE (DO NOT DELETE/MODIFY THIS LINE)*****\n",
    "        dis = np.sqrt(np.sum((Y[i]-X[j])**2))\n",
    "        dists[i, j] = dis\n",
    "        \n",
    "\n",
    "        # *****END OF YOUR CODE (DO NOT DELETE/MODIFY THIS LINE)*****\n",
    "print(dists, dists.shape)"
   ]
  },
  {
   "cell_type": "code",
   "execution_count": 12,
   "metadata": {},
   "outputs": [
    {
     "name": "stdout",
     "output_type": "stream",
     "text": [
      "[0.19869343 1.08281851 0.88673786 1.10918457 0.99431162 1.3150829\n",
      " 0.46315242 0.9635811  0.754264   0.96582399]\n",
      "[0.93397128 0.71852584 1.04758339 1.37718195 0.5142344  1.48045259\n",
      " 0.86095631 1.00677722 0.59589963 0.51915171]\n"
     ]
    },
    {
     "data": {
      "text/plain": [
       "array([[0.19869343, 1.08281851, 0.88673786, 1.10918457, 0.99431162,\n",
       "        1.3150829 , 0.46315242, 0.9635811 , 0.754264  , 0.96582399],\n",
       "       [0.93397128, 0.71852584, 1.04758339, 1.37718195, 0.5142344 ,\n",
       "        1.48045259, 0.86095631, 1.00677722, 0.59589963, 0.51915171]])"
      ]
     },
     "execution_count": 12,
     "metadata": {},
     "output_type": "execute_result"
    }
   ],
   "source": [
    "num_test = Y.shape[0]\n",
    "num_train = X.shape[0]\n",
    "dists_one = np.zeros((num_test, num_train))\n",
    "for i in range(num_test):\n",
    "    #######################################################################\n",
    "    # TODO:                                                               #\n",
    "    # Compute the l2 distance between the ith test point and all training #\n",
    "    # points, and store the result in dists[i, :].                        #\n",
    "    # Do not use np.linalg.norm().                                        #\n",
    "    #######################################################################\n",
    "    # *****START OF YOUR CODE (DO NOT DELETE/MODIFY THIS LINE)*****\n",
    "    dis = np.sqrt(np.sum((np.expand_dims(Y[i],0).repeat(num_train,axis=0)-X)**2, axis=1))\n",
    "    print(dis)\n",
    "    dists_one[i, :] = dis\n",
    "\n",
    "    # *****END OF YOUR CODE (DO NOT DELETE/MODIFY THIS LINE)*****\n",
    "dists_one"
   ]
  },
  {
   "cell_type": "code",
   "execution_count": 13,
   "metadata": {},
   "outputs": [
    {
     "name": "stdout",
     "output_type": "stream",
     "text": [
      "(2, 1, 5) (1, 10, 5)\n"
     ]
    }
   ],
   "source": [
    "num_test = Y.shape[0]\n",
    "num_train = X.shape[0]\n",
    "dists_one = np.zeros((num_test, num_train))\n",
    "\n",
    "Y = Y.reshape(num_test,1,-1)\n",
    "X = X.reshape(1,num_train,-1)\n",
    "print(Y.shape,X.shape)"
   ]
  },
  {
   "cell_type": "code",
   "execution_count": 18,
   "metadata": {},
   "outputs": [
    {
     "name": "stdout",
     "output_type": "stream",
     "text": [
      "(2, 10)\n",
      "[[0.19869343 1.08281851 0.88673786 1.10918457 0.99431162 1.3150829\n",
      "  0.46315242 0.9635811  0.754264   0.96582399]\n",
      " [0.93397128 0.71852584 1.04758339 1.37718195 0.5142344  1.48045259\n",
      "  0.86095631 1.00677722 0.59589963 0.51915171]]\n"
     ]
    }
   ],
   "source": [
    "dists = np.sqrt(np.sum((X - Y)**2,axis=2))\n",
    "print(dists.shape)\n",
    "print(dists)"
   ]
  }
 ],
 "metadata": {
  "kernelspec": {
   "display_name": "Python 3.6.9 64-bit",
   "language": "python",
   "name": "python3"
  },
  "language_info": {
   "codemirror_mode": {
    "name": "ipython",
    "version": 3
   },
   "file_extension": ".py",
   "mimetype": "text/x-python",
   "name": "python",
   "nbconvert_exporter": "python",
   "pygments_lexer": "ipython3",
   "version": "3.6.9"
  },
  "orig_nbformat": 4,
  "vscode": {
   "interpreter": {
    "hash": "31f2aee4e71d21fbe5cf8b01ff0e069b9275f58929596ceb00d14d90e3e16cd6"
   }
  }
 },
 "nbformat": 4,
 "nbformat_minor": 2
}
